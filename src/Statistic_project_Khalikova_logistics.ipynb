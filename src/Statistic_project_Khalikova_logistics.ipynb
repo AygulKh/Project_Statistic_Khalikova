{
 "cells": [
  {
   "cell_type": "markdown",
   "metadata": {},
   "source": [
    "# Проектная работа по Статистике"
   ]
  },
  {
   "cell_type": "code",
   "execution_count": 1,
   "metadata": {},
   "outputs": [],
   "source": [
    "import pandas as pd\n",
    "import numpy as np\n",
    "import matplotlib.pyplot as plt\n",
    "import seaborn as sns\n",
    "import scipy.stats as stats\n",
    "from scipy.stats import pearsonr\n",
    "from statsmodels.graphics.gofplots import qqplot\n",
    "from scipy.stats import kstest\n",
    "from scipy.stats import f_oneway, levene\n",
    "from scipy.stats import chi2_contingency\n",
    "\n",
    "import warnings\n",
    "\n",
    "warnings.filterwarnings(\"ignore\")"
   ]
  },
  {
   "cell_type": "code",
   "execution_count": 2,
   "metadata": {},
   "outputs": [],
   "source": [
    "df_clientsorders = pd.read_csv(\"../datasets/clients_orders.csv\")\n",
    "df_courierseducation = pd.read_csv(\"../datasets/couriers_education.csv\")\n",
    "df_timescourierstest = pd.read_csv(\"../datasets/times_couriers_test.csv\")\n",
    "df_timescourierscontrol = pd.read_csv(\"../datasets/times_couriers_control.csv\")"
   ]
  },
  {
   "cell_type": "code",
   "execution_count": 3,
   "metadata": {},
   "outputs": [],
   "source": [
    "df_clientsorders.drop(labels=\"Unnamed: 0\", axis=1, inplace=True)\n",
    "df_courierseducation.drop(labels=\"Unnamed: 0\", axis=1, inplace=True)\n",
    "df_timescourierstest.drop(labels=\"Unnamed: 0\", axis=1, inplace=True)\n",
    "df_timescourierscontrol.drop(labels=\"Unnamed: 0\", axis=1, inplace=True)"
   ]
  },
  {
   "cell_type": "markdown",
   "metadata": {},
   "source": [
    "## Задание 1.\n",
    "\n",
    "Менеджер логистической компании решил провести АБ-тест, выбрав в качестве метрики время доставки курьерами посылок. Для контрольной группы курьеров оставили предыдущий интерфейс навигации в приложении, а для тестовой группы внедрили новую опцию, позволяющую комбинировать несколько видов транспорта.  \n",
    "Полученные результаты времени доставки в минутах для тестовой и контрольной групп представлены в csv-файлах times_couriers_control.csv и times_couriers_test.csv.  \n",
    "Проверьте гипотезу менеджера о том, что внедрённая опция приложения уменьшила время доставки.\n",
    "\n",
    "*Подсказка: это независимые выборки.*"
   ]
  },
  {
   "cell_type": "markdown",
   "metadata": {},
   "source": [
    "<font color=\"blue\">Посмотрим на выборки.</font>"
   ]
  },
  {
   "cell_type": "code",
   "execution_count": 4,
   "metadata": {},
   "outputs": [
    {
     "data": {
      "text/html": [
       "<div>\n",
       "<style scoped>\n",
       "    .dataframe tbody tr th:only-of-type {\n",
       "        vertical-align: middle;\n",
       "    }\n",
       "\n",
       "    .dataframe tbody tr th {\n",
       "        vertical-align: top;\n",
       "    }\n",
       "\n",
       "    .dataframe thead th {\n",
       "        text-align: right;\n",
       "    }\n",
       "</style>\n",
       "<table border=\"1\" class=\"dataframe\">\n",
       "  <thead>\n",
       "    <tr style=\"text-align: right;\">\n",
       "      <th></th>\n",
       "      <th>time</th>\n",
       "    </tr>\n",
       "  </thead>\n",
       "  <tbody>\n",
       "    <tr>\n",
       "      <th>count</th>\n",
       "      <td>472.000000</td>\n",
       "    </tr>\n",
       "    <tr>\n",
       "      <th>mean</th>\n",
       "      <td>15.390508</td>\n",
       "    </tr>\n",
       "    <tr>\n",
       "      <th>std</th>\n",
       "      <td>5.686440</td>\n",
       "    </tr>\n",
       "    <tr>\n",
       "      <th>min</th>\n",
       "      <td>3.530000</td>\n",
       "    </tr>\n",
       "    <tr>\n",
       "      <th>25%</th>\n",
       "      <td>10.520000</td>\n",
       "    </tr>\n",
       "    <tr>\n",
       "      <th>50%</th>\n",
       "      <td>15.215000</td>\n",
       "    </tr>\n",
       "    <tr>\n",
       "      <th>75%</th>\n",
       "      <td>20.342500</td>\n",
       "    </tr>\n",
       "    <tr>\n",
       "      <th>max</th>\n",
       "      <td>26.460000</td>\n",
       "    </tr>\n",
       "  </tbody>\n",
       "</table>\n",
       "</div>"
      ],
      "text/plain": [
       "             time\n",
       "count  472.000000\n",
       "mean    15.390508\n",
       "std      5.686440\n",
       "min      3.530000\n",
       "25%     10.520000\n",
       "50%     15.215000\n",
       "75%     20.342500\n",
       "max     26.460000"
      ]
     },
     "execution_count": 4,
     "metadata": {},
     "output_type": "execute_result"
    }
   ],
   "source": [
    "df_timescourierstest.describe()"
   ]
  },
  {
   "cell_type": "code",
   "execution_count": 5,
   "metadata": {},
   "outputs": [
    {
     "name": "stdout",
     "output_type": "stream",
     "text": [
      "<class 'pandas.core.frame.DataFrame'>\n",
      "RangeIndex: 472 entries, 0 to 471\n",
      "Data columns (total 1 columns):\n",
      " #   Column  Non-Null Count  Dtype  \n",
      "---  ------  --------------  -----  \n",
      " 0   time    472 non-null    float64\n",
      "dtypes: float64(1)\n",
      "memory usage: 3.8 KB\n"
     ]
    }
   ],
   "source": [
    "df_timescourierstest.info()"
   ]
  },
  {
   "cell_type": "code",
   "execution_count": 6,
   "metadata": {},
   "outputs": [
    {
     "data": {
      "text/plain": [
       "time    0\n",
       "dtype: int64"
      ]
     },
     "execution_count": 6,
     "metadata": {},
     "output_type": "execute_result"
    }
   ],
   "source": [
    "df_timescourierstest.isnull().sum()"
   ]
  },
  {
   "cell_type": "code",
   "execution_count": 7,
   "metadata": {},
   "outputs": [
    {
     "data": {
      "text/html": [
       "<div>\n",
       "<style scoped>\n",
       "    .dataframe tbody tr th:only-of-type {\n",
       "        vertical-align: middle;\n",
       "    }\n",
       "\n",
       "    .dataframe tbody tr th {\n",
       "        vertical-align: top;\n",
       "    }\n",
       "\n",
       "    .dataframe thead th {\n",
       "        text-align: right;\n",
       "    }\n",
       "</style>\n",
       "<table border=\"1\" class=\"dataframe\">\n",
       "  <thead>\n",
       "    <tr style=\"text-align: right;\">\n",
       "      <th></th>\n",
       "      <th>time</th>\n",
       "    </tr>\n",
       "  </thead>\n",
       "  <tbody>\n",
       "    <tr>\n",
       "      <th>count</th>\n",
       "      <td>472.000000</td>\n",
       "    </tr>\n",
       "    <tr>\n",
       "      <th>mean</th>\n",
       "      <td>14.220763</td>\n",
       "    </tr>\n",
       "    <tr>\n",
       "      <th>std</th>\n",
       "      <td>5.772502</td>\n",
       "    </tr>\n",
       "    <tr>\n",
       "      <th>min</th>\n",
       "      <td>2.300000</td>\n",
       "    </tr>\n",
       "    <tr>\n",
       "      <th>25%</th>\n",
       "      <td>9.647500</td>\n",
       "    </tr>\n",
       "    <tr>\n",
       "      <th>50%</th>\n",
       "      <td>13.735000</td>\n",
       "    </tr>\n",
       "    <tr>\n",
       "      <th>75%</th>\n",
       "      <td>18.900000</td>\n",
       "    </tr>\n",
       "    <tr>\n",
       "      <th>max</th>\n",
       "      <td>29.040000</td>\n",
       "    </tr>\n",
       "  </tbody>\n",
       "</table>\n",
       "</div>"
      ],
      "text/plain": [
       "             time\n",
       "count  472.000000\n",
       "mean    14.220763\n",
       "std      5.772502\n",
       "min      2.300000\n",
       "25%      9.647500\n",
       "50%     13.735000\n",
       "75%     18.900000\n",
       "max     29.040000"
      ]
     },
     "execution_count": 7,
     "metadata": {},
     "output_type": "execute_result"
    }
   ],
   "source": [
    "df_timescourierscontrol.describe()"
   ]
  },
  {
   "cell_type": "code",
   "execution_count": 8,
   "metadata": {},
   "outputs": [
    {
     "name": "stdout",
     "output_type": "stream",
     "text": [
      "<class 'pandas.core.frame.DataFrame'>\n",
      "RangeIndex: 472 entries, 0 to 471\n",
      "Data columns (total 1 columns):\n",
      " #   Column  Non-Null Count  Dtype  \n",
      "---  ------  --------------  -----  \n",
      " 0   time    472 non-null    float64\n",
      "dtypes: float64(1)\n",
      "memory usage: 3.8 KB\n"
     ]
    }
   ],
   "source": [
    "df_timescourierscontrol.info()"
   ]
  },
  {
   "cell_type": "code",
   "execution_count": 9,
   "metadata": {},
   "outputs": [
    {
     "data": {
      "text/plain": [
       "time    0\n",
       "dtype: int64"
      ]
     },
     "execution_count": 9,
     "metadata": {},
     "output_type": "execute_result"
    }
   ],
   "source": [
    "df_timescourierscontrol.isnull().sum()"
   ]
  },
  {
   "cell_type": "code",
   "execution_count": 10,
   "metadata": {},
   "outputs": [
    {
     "data": {
      "text/html": [
       "<div>\n",
       "<style scoped>\n",
       "    .dataframe tbody tr th:only-of-type {\n",
       "        vertical-align: middle;\n",
       "    }\n",
       "\n",
       "    .dataframe tbody tr th {\n",
       "        vertical-align: top;\n",
       "    }\n",
       "\n",
       "    .dataframe thead th {\n",
       "        text-align: right;\n",
       "    }\n",
       "</style>\n",
       "<table border=\"1\" class=\"dataframe\">\n",
       "  <thead>\n",
       "    <tr style=\"text-align: right;\">\n",
       "      <th></th>\n",
       "      <th>time</th>\n",
       "    </tr>\n",
       "  </thead>\n",
       "  <tbody>\n",
       "    <tr>\n",
       "      <th>0</th>\n",
       "      <td>12.69</td>\n",
       "    </tr>\n",
       "    <tr>\n",
       "      <th>1</th>\n",
       "      <td>13.51</td>\n",
       "    </tr>\n",
       "    <tr>\n",
       "      <th>2</th>\n",
       "      <td>16.19</td>\n",
       "    </tr>\n",
       "    <tr>\n",
       "      <th>3</th>\n",
       "      <td>9.77</td>\n",
       "    </tr>\n",
       "    <tr>\n",
       "      <th>4</th>\n",
       "      <td>8.81</td>\n",
       "    </tr>\n",
       "    <tr>\n",
       "      <th>...</th>\n",
       "      <td>...</td>\n",
       "    </tr>\n",
       "    <tr>\n",
       "      <th>467</th>\n",
       "      <td>14.10</td>\n",
       "    </tr>\n",
       "    <tr>\n",
       "      <th>468</th>\n",
       "      <td>23.18</td>\n",
       "    </tr>\n",
       "    <tr>\n",
       "      <th>469</th>\n",
       "      <td>9.98</td>\n",
       "    </tr>\n",
       "    <tr>\n",
       "      <th>470</th>\n",
       "      <td>15.26</td>\n",
       "    </tr>\n",
       "    <tr>\n",
       "      <th>471</th>\n",
       "      <td>25.84</td>\n",
       "    </tr>\n",
       "  </tbody>\n",
       "</table>\n",
       "<p>472 rows × 1 columns</p>\n",
       "</div>"
      ],
      "text/plain": [
       "      time\n",
       "0    12.69\n",
       "1    13.51\n",
       "2    16.19\n",
       "3     9.77\n",
       "4     8.81\n",
       "..     ...\n",
       "467  14.10\n",
       "468  23.18\n",
       "469   9.98\n",
       "470  15.26\n",
       "471  25.84\n",
       "\n",
       "[472 rows x 1 columns]"
      ]
     },
     "execution_count": 10,
     "metadata": {},
     "output_type": "execute_result"
    }
   ],
   "source": [
    "df_timescourierstest"
   ]
  },
  {
   "cell_type": "code",
   "execution_count": 11,
   "metadata": {},
   "outputs": [
    {
     "data": {
      "text/html": [
       "<div>\n",
       "<style scoped>\n",
       "    .dataframe tbody tr th:only-of-type {\n",
       "        vertical-align: middle;\n",
       "    }\n",
       "\n",
       "    .dataframe tbody tr th {\n",
       "        vertical-align: top;\n",
       "    }\n",
       "\n",
       "    .dataframe thead th {\n",
       "        text-align: right;\n",
       "    }\n",
       "</style>\n",
       "<table border=\"1\" class=\"dataframe\">\n",
       "  <thead>\n",
       "    <tr style=\"text-align: right;\">\n",
       "      <th></th>\n",
       "      <th>time</th>\n",
       "    </tr>\n",
       "  </thead>\n",
       "  <tbody>\n",
       "    <tr>\n",
       "      <th>0</th>\n",
       "      <td>10.88</td>\n",
       "    </tr>\n",
       "    <tr>\n",
       "      <th>1</th>\n",
       "      <td>14.11</td>\n",
       "    </tr>\n",
       "    <tr>\n",
       "      <th>2</th>\n",
       "      <td>8.51</td>\n",
       "    </tr>\n",
       "    <tr>\n",
       "      <th>3</th>\n",
       "      <td>6.43</td>\n",
       "    </tr>\n",
       "    <tr>\n",
       "      <th>4</th>\n",
       "      <td>24.32</td>\n",
       "    </tr>\n",
       "    <tr>\n",
       "      <th>...</th>\n",
       "      <td>...</td>\n",
       "    </tr>\n",
       "    <tr>\n",
       "      <th>467</th>\n",
       "      <td>16.86</td>\n",
       "    </tr>\n",
       "    <tr>\n",
       "      <th>468</th>\n",
       "      <td>19.50</td>\n",
       "    </tr>\n",
       "    <tr>\n",
       "      <th>469</th>\n",
       "      <td>8.15</td>\n",
       "    </tr>\n",
       "    <tr>\n",
       "      <th>470</th>\n",
       "      <td>7.80</td>\n",
       "    </tr>\n",
       "    <tr>\n",
       "      <th>471</th>\n",
       "      <td>8.76</td>\n",
       "    </tr>\n",
       "  </tbody>\n",
       "</table>\n",
       "<p>472 rows × 1 columns</p>\n",
       "</div>"
      ],
      "text/plain": [
       "      time\n",
       "0    10.88\n",
       "1    14.11\n",
       "2     8.51\n",
       "3     6.43\n",
       "4    24.32\n",
       "..     ...\n",
       "467  16.86\n",
       "468  19.50\n",
       "469   8.15\n",
       "470   7.80\n",
       "471   8.76\n",
       "\n",
       "[472 rows x 1 columns]"
      ]
     },
     "execution_count": 11,
     "metadata": {},
     "output_type": "execute_result"
    }
   ],
   "source": [
    "df_timescourierscontrol"
   ]
  },
  {
   "cell_type": "markdown",
   "metadata": {},
   "source": [
    "\n",
    "### <u>Определим гипотезы:</u>\n",
    "* Нулевая гипотеза (H0): нет значимой разницы в среднем времени доставки между группами.\n",
    "* Альтернативная гипотеза (H1): среднее время доставки в тестовой группе меньше, чем в контрольной группе."
   ]
  },
  {
   "cell_type": "markdown",
   "metadata": {},
   "source": [
    "<u>Т.к. выборки независимые, то можно применить t-критерий Стьюдента для независимых выборок</u>\n",
    "\n",
    "t-критерий Стьюдента для независимых выборок применяется для сравнения средних значений двух независимых между собой выборок.\n",
    "\n",
    "**Условия применения:**\n",
    "1. Сравниваемые значения не составляют пару коррелирующих значений\n",
    "2. Распределение признаков в каждой выборке соответствует нормальному распределению  \n",
    "3. Дисперсии признака в выборках примерно равны "
   ]
  },
  {
   "cell_type": "markdown",
   "metadata": {},
   "source": [
    "<font color=\"blue\"><u>1. Проверим зависимость выборок с помощью коэффициента корреляции Пирсона.</u></font>"
   ]
  },
  {
   "cell_type": "code",
   "execution_count": 12,
   "metadata": {},
   "outputs": [
    {
     "data": {
      "text/plain": [
       "PearsonRResult(statistic=np.float64(0.04717249285160774), pvalue=np.float64(0.3064493072523685))"
      ]
     },
     "execution_count": 12,
     "metadata": {},
     "output_type": "execute_result"
    }
   ],
   "source": [
    "pearsonr(df_timescourierstest[\"time\"], df_timescourierscontrol[\"time\"])"
   ]
  },
  {
   "cell_type": "markdown",
   "metadata": {},
   "source": [
    "<font color=\"blue\">*Вывод:  \n",
    "0,01 < r ≤ 0,29 – слабая положительная связь  \n",
    "p-уровень > 0,05, значит связь между переменными является статистически не значимой.*</font>"
   ]
  },
  {
   "cell_type": "markdown",
   "metadata": {},
   "source": [
    "<font color=\"blue\"><u>2. Проверим соответствуют ли данные нормальному распределению. </u></font>"
   ]
  },
  {
   "cell_type": "markdown",
   "metadata": {},
   "source": [
    "Способ 1: создание гистограммы (и боксплота для проверки выбросов)"
   ]
  },
  {
   "cell_type": "code",
   "execution_count": 13,
   "metadata": {},
   "outputs": [
    {
     "data": {
      "image/png": "[encoded data removed]",
      "text/plain": [
       "<Figure size 1000x500 with 4 Axes>"
      ]
     },
     "metadata": {},
     "output_type": "display_data"
    }
   ],
   "source": [
    "fig, axes = plt.subplots(\n",
    "    2, 2, sharex=True, gridspec_kw={\"height_ratios\": (0.15, 0.85)}, figsize=(10, 5)\n",
    ")\n",
    "\n",
    "ax_box1, ax_box2, ax_hist1, ax_hist2 = axes.flatten()\n",
    "\n",
    "sns.boxplot(x=df_timescourierstest[\"time\"], ax=ax_box1)\n",
    "sns.boxplot(x=df_timescourierscontrol[\"time\"], ax=ax_box2)\n",
    "\n",
    "ax_box1.set(xlabel=\"\")\n",
    "ax_box1.set_title(\"Тестовая группа\")\n",
    "ax_box2.set(xlabel=\"\")\n",
    "ax_box2.set_title(\"Контрольная группа\")\n",
    "\n",
    "sns.histplot(data=df_timescourierstest, x=\"time\", bins=20, kde=True, ax=ax_hist1)\n",
    "sns.histplot(data=df_timescourierscontrol, x=\"time\", bins=20, kde=True, ax=ax_hist2)\n",
    "\n",
    "ax_hist1.set_yscale(\"log\")\n",
    "ax_hist1.set(xlabel=\"Время доставки\")\n",
    "ax_hist1.set(ylabel=\"count\")\n",
    "\n",
    "ax_hist2.set_yscale(\"log\")\n",
    "ax_hist2.set(xlabel=\"Время доставки\")\n",
    "ax_hist2.set(ylabel=\"count\")\n",
    "\n",
    "plt.tight_layout()\n",
    "\n",
    "plt.show()"
   ]
  },
  {
   "cell_type": "markdown",
   "metadata": {},
   "source": [
    "*Выбросов у обеих выборок не обнаружено.\n",
    "Гистограммы обеих выборок примерно напоминают колоколообразную форму, что может быть признаком нормального распределения.*"
   ]
  },
  {
   "cell_type": "markdown",
   "metadata": {},
   "source": [
    "Способ 2: создать график QQ"
   ]
  },
  {
   "cell_type": "code",
   "execution_count": 14,
   "metadata": {},
   "outputs": [
    {
     "data": {
      "image/png": "[encoded data removed]",
      "text/plain": [
       "<Figure size 1000x500 with 2 Axes>"
      ]
     },
     "metadata": {},
     "output_type": "display_data"
    }
   ],
   "source": [
    "fig, axes = plt.subplots(1, 2, figsize=(10, 5))\n",
    "\n",
    "qqplot(df_timescourierscontrol[\"time\"], line=\"s\", ax=axes[0])\n",
    "axes[0].set_title(\"QQ-график контрольной группы\")\n",
    "\n",
    "qqplot(df_timescourierstest[\"time\"], line=\"s\", ax=axes[1])\n",
    "axes[1].set_title(\"QQ-график тестовой группы\")\n",
    "\n",
    "plt.tight_layout()\n",
    "\n",
    "plt.show()"
   ]
  },
  {
   "cell_type": "markdown",
   "metadata": {},
   "source": [
    "*Точки на QQ-графике и контрольной и тестовой выборок близко распололжены к прямой линии, что говорит о возможности нормального распределения данных.*"
   ]
  },
  {
   "cell_type": "markdown",
   "metadata": {},
   "source": [
    "Способ 3: выполнить тест Колмогорова-Смирнова"
   ]
  },
  {
   "cell_type": "code",
   "execution_count": 15,
   "metadata": {},
   "outputs": [
    {
     "name": "stdout",
     "output_type": "stream",
     "text": [
      "Тест Колмогорова-Смирнова (контрольная группа): статистика=0.0508, p-значение=0.1689\n",
      "Тест Колмогорова-Смирнова (тестовая группа): статистика=0.0648, p-значение=0.0363\n"
     ]
    }
   ],
   "source": [
    "ks_stat_control, ks_p_control = kstest(\n",
    "    df_timescourierscontrol[\"time\"],\n",
    "    \"norm\",\n",
    "    args=(\n",
    "        np.mean(df_timescourierscontrol[\"time\"]),\n",
    "        np.std(df_timescourierscontrol[\"time\"]),\n",
    "    ),\n",
    ")\n",
    "ks_stat_test, ks_p_test = kstest(\n",
    "    df_timescourierstest[\"time\"],\n",
    "    \"norm\",\n",
    "    args=(np.mean(df_timescourierstest[\"time\"]), np.std(df_timescourierstest[\"time\"])),\n",
    ")\n",
    "\n",
    "print(\n",
    "    f\"Тест Колмогорова-Смирнова (контрольная группа): статистика={ks_stat_control:.4f}, p-значение={ks_p_control:.4f}\"\n",
    ")\n",
    "print(\n",
    "    f\"Тест Колмогорова-Смирнова (тестовая группа): статистика={ks_stat_test:.4f}, p-значение={ks_p_test:.4f}\"\n",
    ")"
   ]
  },
  {
   "cell_type": "markdown",
   "metadata": {},
   "source": [
    "*p-значение у обеих выборок больше 0,05, значит нет оснований отвергать гипотезу о том, что данные распределены нормально.*"
   ]
  },
  {
   "cell_type": "markdown",
   "metadata": {},
   "source": [
    "**Важно:** Ни один тест не может с полной уверенностью сказать, что данные распределены нормально. Все методы являются приближенными. "
   ]
  },
  {
   "cell_type": "markdown",
   "metadata": {},
   "source": [
    "<font color=\"blue\">*Вывод:\n",
    "Можем считать, что данные в обеих выборках распределены нормально.* </font>"
   ]
  },
  {
   "cell_type": "markdown",
   "metadata": {},
   "source": [
    "<font color=\"blue\"><u> 3. Проверка равенства дисперсий.</u></font> "
   ]
  },
  {
   "cell_type": "code",
   "execution_count": 16,
   "metadata": {},
   "outputs": [
    {
     "name": "stdout",
     "output_type": "stream",
     "text": [
      "Тест Левене: статистика=0.0302, p-значение=0.8620\n"
     ]
    }
   ],
   "source": [
    "levene_statistic, p_value = levene(\n",
    "    df_timescourierscontrol[\"time\"], df_timescourierstest[\"time\"]\n",
    ")\n",
    "\n",
    "print(f\"Тест Левене: статистика={levene_statistic:.4f}, p-значение={p_value:.4f}\")"
   ]
  },
  {
   "cell_type": "markdown",
   "metadata": {},
   "source": [
    "<font color=\"blue\">*Вывод:\n",
    "Т.к. p-значение больше 0.05, то нет оснований отвергать гипотезу о том, что дисперсии выборок равны.* </font>"
   ]
  },
  {
   "cell_type": "markdown",
   "metadata": {},
   "source": [
    "Итак, теперь можно применить t-критерий."
   ]
  },
  {
   "cell_type": "code",
   "execution_count": 17,
   "metadata": {},
   "outputs": [
    {
     "name": "stdout",
     "output_type": "stream",
     "text": [
      "p-значение: 0.9991180560045553\n",
      "t-статистика: 3.1363225525939744\n",
      "Не получилось отвергнуть нулевую гипотезу\n"
     ]
    }
   ],
   "source": [
    "alpha = 0.05  # уровень статистической значимости\n",
    "\n",
    "results = stats.ttest_ind(\n",
    "    df_timescourierstest[\"time\"], df_timescourierscontrol[\"time\"], alternative=\"less\"\n",
    ")  # less / greater / two-sided\n",
    "\n",
    "print(\"p-значение:\", results.pvalue)\n",
    "print(\"t-статистика:\", results.statistic)\n",
    "\n",
    "if results.pvalue < alpha:\n",
    "    print(\"Отвергаем нулевую гипотезу\")\n",
    "else:\n",
    "    print(\"Не получилось отвергнуть нулевую гипотезу\")"
   ]
  },
  {
   "cell_type": "markdown",
   "metadata": {},
   "source": [
    "<font color=\"blue\"><u>Вывод:\n",
    "Отвергаем альтернативную гипотезу о том, что новая опция приложения уменьшила время доставки. </font> </u>"
   ]
  },
  {
   "cell_type": "markdown",
   "metadata": {},
   "source": [
    "## Задание 2\n",
    "В этой же компании с 1 мая часто заказывающим клиентам предоставили скидку, действующую на все заказы до конца календарного месяца, если в этом месяце клиент уже сделал четыре заказа (то есть начиная с пятого заказа).  \n",
    "В файле clients_orders.csv представлена информация о количестве заказов, которые одни и те же клиенты сделали в апреле и мае.  \n",
    "Проверьте гипотезу о том, что клиенты стали делать больше заказов после введения скидки.\n",
    "\n",
    "*Подсказка: это зависимая (парная) выборка.*"
   ]
  },
  {
   "cell_type": "markdown",
   "metadata": {},
   "source": [
    "<font color=\"blue\">Посмотрим на выборки.</font>"
   ]
  },
  {
   "cell_type": "code",
   "execution_count": 18,
   "metadata": {},
   "outputs": [
    {
     "data": {
      "text/html": [
       "<div>\n",
       "<style scoped>\n",
       "    .dataframe tbody tr th:only-of-type {\n",
       "        vertical-align: middle;\n",
       "    }\n",
       "\n",
       "    .dataframe tbody tr th {\n",
       "        vertical-align: top;\n",
       "    }\n",
       "\n",
       "    .dataframe thead th {\n",
       "        text-align: right;\n",
       "    }\n",
       "</style>\n",
       "<table border=\"1\" class=\"dataframe\">\n",
       "  <thead>\n",
       "    <tr style=\"text-align: right;\">\n",
       "      <th></th>\n",
       "      <th>orders_april</th>\n",
       "      <th>orders_may</th>\n",
       "    </tr>\n",
       "  </thead>\n",
       "  <tbody>\n",
       "    <tr>\n",
       "      <th>0</th>\n",
       "      <td>28</td>\n",
       "      <td>33</td>\n",
       "    </tr>\n",
       "    <tr>\n",
       "      <th>1</th>\n",
       "      <td>20</td>\n",
       "      <td>18</td>\n",
       "    </tr>\n",
       "    <tr>\n",
       "      <th>2</th>\n",
       "      <td>22</td>\n",
       "      <td>28</td>\n",
       "    </tr>\n",
       "    <tr>\n",
       "      <th>3</th>\n",
       "      <td>29</td>\n",
       "      <td>21</td>\n",
       "    </tr>\n",
       "    <tr>\n",
       "      <th>4</th>\n",
       "      <td>23</td>\n",
       "      <td>27</td>\n",
       "    </tr>\n",
       "    <tr>\n",
       "      <th>...</th>\n",
       "      <td>...</td>\n",
       "      <td>...</td>\n",
       "    </tr>\n",
       "    <tr>\n",
       "      <th>69</th>\n",
       "      <td>31</td>\n",
       "      <td>17</td>\n",
       "    </tr>\n",
       "    <tr>\n",
       "      <th>70</th>\n",
       "      <td>16</td>\n",
       "      <td>34</td>\n",
       "    </tr>\n",
       "    <tr>\n",
       "      <th>71</th>\n",
       "      <td>28</td>\n",
       "      <td>16</td>\n",
       "    </tr>\n",
       "    <tr>\n",
       "      <th>72</th>\n",
       "      <td>25</td>\n",
       "      <td>19</td>\n",
       "    </tr>\n",
       "    <tr>\n",
       "      <th>73</th>\n",
       "      <td>28</td>\n",
       "      <td>25</td>\n",
       "    </tr>\n",
       "  </tbody>\n",
       "</table>\n",
       "<p>74 rows × 2 columns</p>\n",
       "</div>"
      ],
      "text/plain": [
       "    orders_april  orders_may\n",
       "0             28          33\n",
       "1             20          18\n",
       "2             22          28\n",
       "3             29          21\n",
       "4             23          27\n",
       "..           ...         ...\n",
       "69            31          17\n",
       "70            16          34\n",
       "71            28          16\n",
       "72            25          19\n",
       "73            28          25\n",
       "\n",
       "[74 rows x 2 columns]"
      ]
     },
     "execution_count": 18,
     "metadata": {},
     "output_type": "execute_result"
    }
   ],
   "source": [
    "df_clientsorders"
   ]
  },
  {
   "cell_type": "code",
   "execution_count": 19,
   "metadata": {},
   "outputs": [
    {
     "data": {
      "text/html": [
       "<div>\n",
       "<style scoped>\n",
       "    .dataframe tbody tr th:only-of-type {\n",
       "        vertical-align: middle;\n",
       "    }\n",
       "\n",
       "    .dataframe tbody tr th {\n",
       "        vertical-align: top;\n",
       "    }\n",
       "\n",
       "    .dataframe thead th {\n",
       "        text-align: right;\n",
       "    }\n",
       "</style>\n",
       "<table border=\"1\" class=\"dataframe\">\n",
       "  <thead>\n",
       "    <tr style=\"text-align: right;\">\n",
       "      <th></th>\n",
       "      <th>orders_april</th>\n",
       "      <th>orders_may</th>\n",
       "    </tr>\n",
       "  </thead>\n",
       "  <tbody>\n",
       "    <tr>\n",
       "      <th>count</th>\n",
       "      <td>74.000000</td>\n",
       "      <td>74.000000</td>\n",
       "    </tr>\n",
       "    <tr>\n",
       "      <th>mean</th>\n",
       "      <td>21.851351</td>\n",
       "      <td>24.108108</td>\n",
       "    </tr>\n",
       "    <tr>\n",
       "      <th>std</th>\n",
       "      <td>5.413536</td>\n",
       "      <td>5.653384</td>\n",
       "    </tr>\n",
       "    <tr>\n",
       "      <th>min</th>\n",
       "      <td>12.000000</td>\n",
       "      <td>14.000000</td>\n",
       "    </tr>\n",
       "    <tr>\n",
       "      <th>25%</th>\n",
       "      <td>18.000000</td>\n",
       "      <td>19.250000</td>\n",
       "    </tr>\n",
       "    <tr>\n",
       "      <th>50%</th>\n",
       "      <td>22.000000</td>\n",
       "      <td>23.500000</td>\n",
       "    </tr>\n",
       "    <tr>\n",
       "      <th>75%</th>\n",
       "      <td>26.750000</td>\n",
       "      <td>28.000000</td>\n",
       "    </tr>\n",
       "    <tr>\n",
       "      <th>max</th>\n",
       "      <td>31.000000</td>\n",
       "      <td>35.000000</td>\n",
       "    </tr>\n",
       "  </tbody>\n",
       "</table>\n",
       "</div>"
      ],
      "text/plain": [
       "       orders_april  orders_may\n",
       "count     74.000000   74.000000\n",
       "mean      21.851351   24.108108\n",
       "std        5.413536    5.653384\n",
       "min       12.000000   14.000000\n",
       "25%       18.000000   19.250000\n",
       "50%       22.000000   23.500000\n",
       "75%       26.750000   28.000000\n",
       "max       31.000000   35.000000"
      ]
     },
     "execution_count": 19,
     "metadata": {},
     "output_type": "execute_result"
    }
   ],
   "source": [
    "df_clientsorders.describe()"
   ]
  },
  {
   "cell_type": "code",
   "execution_count": 20,
   "metadata": {},
   "outputs": [
    {
     "name": "stdout",
     "output_type": "stream",
     "text": [
      "<class 'pandas.core.frame.DataFrame'>\n",
      "RangeIndex: 74 entries, 0 to 73\n",
      "Data columns (total 2 columns):\n",
      " #   Column        Non-Null Count  Dtype\n",
      "---  ------        --------------  -----\n",
      " 0   orders_april  74 non-null     int64\n",
      " 1   orders_may    74 non-null     int64\n",
      "dtypes: int64(2)\n",
      "memory usage: 1.3 KB\n"
     ]
    }
   ],
   "source": [
    "df_clientsorders.info()"
   ]
  },
  {
   "cell_type": "code",
   "execution_count": 21,
   "metadata": {},
   "outputs": [
    {
     "data": {
      "text/plain": [
       "orders_april    0\n",
       "orders_may      0\n",
       "dtype: int64"
      ]
     },
     "execution_count": 21,
     "metadata": {},
     "output_type": "execute_result"
    }
   ],
   "source": [
    "df_clientsorders.isnull().sum()"
   ]
  },
  {
   "cell_type": "markdown",
   "metadata": {},
   "source": [
    "### <u>Определим гипотезы:</u>\n",
    "* Нулевая гипотеза (H0): нет значимой разницы в среднем количестве заказов до и после введения скидки.\n",
    "* Альтернативная гипотеза (H1): среднее количество заказов после введения скидки больше, чем до этого."
   ]
  },
  {
   "cell_type": "markdown",
   "metadata": {},
   "source": [
    "<u>Т.к. выборки зависимые, то можно применить t-критерий Стьюдента для зависимых выборок</u>\n",
    "\n",
    "t-критерий Стьюдента для зависимых выборок применяется для сравнения средних значений двух зависимых между собой выборок.\n",
    "\n",
    "**Условия применения:**\n",
    "\n",
    "1. Сравниваемые значения составляют пару коррелирующих значений\n",
    "2. Распределение признаков в каждой выборке соответствует нормальному распределению\n",
    "\n",
    "Альтернатива:  \n",
    "* непараметрический T-критерий Вилкоксона (если распределение в выборке не нормальное)\n",
    "* t-критерий Стьюдента для независимых выборок (если значения не составляют пару коррелирующих значений)"
   ]
  },
  {
   "cell_type": "markdown",
   "metadata": {},
   "source": [
    "<font color=\"blue\"><u>1. Проверим зависимость выборок с помощью коэффициента корреляции Пирсона.</u></font>"
   ]
  },
  {
   "cell_type": "code",
   "execution_count": 22,
   "metadata": {},
   "outputs": [
    {
     "data": {
      "text/plain": [
       "PearsonRResult(statistic=np.float64(0.10213690387986617), pvalue=np.float64(0.38653166899978986))"
      ]
     },
     "execution_count": 22,
     "metadata": {},
     "output_type": "execute_result"
    }
   ],
   "source": [
    "pearsonr(df_clientsorders[\"orders_april\"], df_clientsorders[\"orders_may\"])"
   ]
  },
  {
   "cell_type": "markdown",
   "metadata": {},
   "source": [
    "<font color=\"blue\">*Вывод:  \n",
    "0,01 < r ≤ 0,29 – слабая положительная связь,  \n",
    "p-уровень > 0,05, значит связь между переменными является статистически не значимой.*</font>"
   ]
  },
  {
   "cell_type": "markdown",
   "metadata": {},
   "source": [
    "<font color=\"blue\"><u>2. Проверим соответствуют ли данные нормальному распределению. </u></font>"
   ]
  },
  {
   "cell_type": "markdown",
   "metadata": {},
   "source": [
    "Способ 1: создание гистограммы (и боксплота для проверки выбросов)"
   ]
  },
  {
   "cell_type": "code",
   "execution_count": 23,
   "metadata": {},
   "outputs": [
    {
     "data": {
      "image/png": "[encoded data removed]",
      "text/plain": [
       "<Figure size 1000x500 with 4 Axes>"
      ]
     },
     "metadata": {},
     "output_type": "display_data"
    }
   ],
   "source": [
    "fig, axes = plt.subplots(\n",
    "    2, 2, sharex=True, gridspec_kw={\"height_ratios\": (0.15, 0.85)}, figsize=(10, 5)\n",
    ")\n",
    "\n",
    "ax_box1, ax_box2, ax_hist1, ax_hist2 = axes.flatten()\n",
    "\n",
    "sns.boxplot(x=df_clientsorders[\"orders_april\"], ax=ax_box1)\n",
    "sns.boxplot(x=df_clientsorders[\"orders_may\"], ax=ax_box2)\n",
    "\n",
    "ax_box1.set(xlabel=\"\")\n",
    "ax_box1.set_title(\"Апрель\")\n",
    "ax_box2.set(xlabel=\"\")\n",
    "ax_box2.set_title(\"Май\")\n",
    "\n",
    "sns.histplot(data=df_clientsorders, x=\"orders_april\", bins=20, kde=True, ax=ax_hist1)\n",
    "sns.histplot(data=df_clientsorders, x=\"orders_may\", bins=20, kde=True, ax=ax_hist2)\n",
    "\n",
    "ax_hist1.set_yscale(\"log\")\n",
    "ax_hist1.set(xlabel=\"Количество заказов\")\n",
    "ax_hist1.set(ylabel=\"count\")\n",
    "\n",
    "ax_hist2.set_yscale(\"log\")\n",
    "ax_hist2.set(xlabel=\"Количество заказов\")\n",
    "ax_hist2.set(ylabel=\"count\")\n",
    "\n",
    "plt.tight_layout()\n",
    "\n",
    "plt.show()"
   ]
  },
  {
   "cell_type": "markdown",
   "metadata": {},
   "source": [
    "*Выбросов у обеих выборок не обнаружено.\n",
    "Гистограммы обеих выборок примерно напоминают колоколообразную форму, что может быть признаком нормального распределения.*"
   ]
  },
  {
   "cell_type": "markdown",
   "metadata": {},
   "source": [
    "Способ 2: создать график QQ"
   ]
  },
  {
   "cell_type": "code",
   "execution_count": 24,
   "metadata": {},
   "outputs": [
    {
     "data": {
      "image/png": "[encoded data removed]",
      "text/plain": [
       "<Figure size 1000x500 with 2 Axes>"
      ]
     },
     "metadata": {},
     "output_type": "display_data"
    }
   ],
   "source": [
    "fig, axes = plt.subplots(1, 2, figsize=(10, 5))\n",
    "\n",
    "qqplot(df_clientsorders[\"orders_april\"], line=\"s\", ax=axes[0])\n",
    "axes[0].set_title(\"QQ-график заказов за апрель\")\n",
    "\n",
    "qqplot(df_clientsorders[\"orders_may\"], line=\"s\", ax=axes[1])\n",
    "axes[1].set_title(\"QQ-график заказов за май\")\n",
    "\n",
    "plt.tight_layout()\n",
    "\n",
    "plt.show()"
   ]
  },
  {
   "cell_type": "markdown",
   "metadata": {},
   "source": [
    "*Точки на QQ-графике и контрольной и тестовой выборок близко распололжены к прямой линии, что говорит о возможности нормального распределения данных.*"
   ]
  },
  {
   "cell_type": "markdown",
   "metadata": {},
   "source": [
    "- **Тесты Шапиро-Уилка и Колмогорова-Смирнова:** \n",
    "   - Если p-значение больше 0.05, то нет оснований отвергать гипотезу о том, что данные распределены нормально.\n",
    "   - Если p-значение меньше 0.05, то есть основания отвергать гипотезу о нормальном распределении."
   ]
  },
  {
   "cell_type": "markdown",
   "metadata": {},
   "source": [
    "Способ 3: выполнить тест Колмогорова-Смирнова"
   ]
  },
  {
   "cell_type": "code",
   "execution_count": 25,
   "metadata": {},
   "outputs": [
    {
     "name": "stdout",
     "output_type": "stream",
     "text": [
      "Тест Колмогорова-Смирнова (апрель): статистика=0.1041, p-значение=0.3727\n",
      "Тест Колмогорова-Смирнова (май): статистика=0.1019, p-значение=0.3986\n"
     ]
    }
   ],
   "source": [
    "ks_stat_april, ks_p_april = kstest(\n",
    "    df_clientsorders[\"orders_april\"],\n",
    "    \"norm\",\n",
    "    args=(\n",
    "        np.mean(df_clientsorders[\"orders_april\"]),\n",
    "        np.std(df_clientsorders[\"orders_april\"]),\n",
    "    ),\n",
    ")\n",
    "ks_stat_may, ks_p_may = kstest(\n",
    "    df_clientsorders[\"orders_may\"],\n",
    "    \"norm\",\n",
    "    args=(\n",
    "        np.mean(df_clientsorders[\"orders_may\"]),\n",
    "        np.std(df_clientsorders[\"orders_may\"]),\n",
    "    ),\n",
    ")\n",
    "\n",
    "print(\n",
    "    f\"Тест Колмогорова-Смирнова (апрель): статистика={ks_stat_april:.4f}, p-значение={ks_p_april:.4f}\"\n",
    ")\n",
    "print(\n",
    "    f\"Тест Колмогорова-Смирнова (май): статистика={ks_stat_may:.4f}, p-значение={ks_p_may:.4f}\"\n",
    ")"
   ]
  },
  {
   "cell_type": "markdown",
   "metadata": {},
   "source": [
    "*p-значение у обеих выборок больше 0,05, значит нет оснований отвергать гипотезу о том, что данные распределены нормально.*"
   ]
  },
  {
   "cell_type": "markdown",
   "metadata": {},
   "source": [
    "<font color=\"blue\">*Вывод:\n",
    "Можем считать, что данные в обеих выборках распределены нормально.* </font>"
   ]
  },
  {
   "cell_type": "markdown",
   "metadata": {},
   "source": [
    "Итак, теперь можно применить t-критерий."
   ]
  },
  {
   "cell_type": "code",
   "execution_count": 26,
   "metadata": {},
   "outputs": [
    {
     "name": "stdout",
     "output_type": "stream",
     "text": [
      "p-значение: 0.00538333571008088\n",
      "t-статистика: -2.6173307841882494\n",
      "Отвергаем нулевую гипотезу\n"
     ]
    }
   ],
   "source": [
    "alpha = 0.05  # уровень статистической значимости\n",
    "\n",
    "results = stats.ttest_rel(\n",
    "    df_clientsorders[\"orders_april\"], df_clientsorders[\"orders_may\"], alternative=\"less\"\n",
    ")  # less / greater/ two-sided\n",
    "\n",
    "print(\"p-значение:\", results.pvalue)\n",
    "print(\"t-статистика:\", results.statistic)\n",
    "\n",
    "if results.pvalue < alpha:\n",
    "    print(\"Отвергаем нулевую гипотезу\")\n",
    "else:\n",
    "    print(\"Не получилось отвергнуть нулевую гипотезу\")"
   ]
  },
  {
   "cell_type": "markdown",
   "metadata": {},
   "source": [
    "<font color=\"blue\"><u>Вывод:\n",
    "Отвергаем нулевую гипотезу о том, что нет значимой разницы в среднем количестве заказов до и после введения скидки. </font> </u>"
   ]
  },
  {
   "cell_type": "markdown",
   "metadata": {},
   "source": [
    "## Задание 3\n",
    "В файле couriers_education.csv представлена анонимизированная информация о курьерах компании: образование ( education ) и количество лет работы в компании ( experience ).\n",
    "\n",
    "Переменная education принимает значения:  \n",
    "NS — no school — нет аттестата об окончании школы  \n",
    "MS — middle school — закончены 9 классов школы  \n",
    "S — school — среднее образование: закончена средняя школа  \n",
    "SSE — secondary special education — среднее специальное образование (ПТУ /колледж)  \n",
    "HE — higher education — высшее образование   \n",
    "\n",
    "Переменная experience принимает значения:\n",
    "0-1 — до одного года работы в компании  \n",
    "1-3 — от одного до трёх лет работы  \n",
    "3-5 — от трёх до пяти лет работы  \n",
    "5- — от пяти лет работы  \n",
    "\n",
    "Проверьте гипотезу о том, что стаж работы в компании зависит от уровня образования.\n"
   ]
  },
  {
   "cell_type": "markdown",
   "metadata": {},
   "source": [
    "<font color=\"blue\">Посмотрим на выборки.</font>"
   ]
  },
  {
   "cell_type": "code",
   "execution_count": 27,
   "metadata": {},
   "outputs": [
    {
     "data": {
      "text/html": [
       "<div>\n",
       "<style scoped>\n",
       "    .dataframe tbody tr th:only-of-type {\n",
       "        vertical-align: middle;\n",
       "    }\n",
       "\n",
       "    .dataframe tbody tr th {\n",
       "        vertical-align: top;\n",
       "    }\n",
       "\n",
       "    .dataframe thead th {\n",
       "        text-align: right;\n",
       "    }\n",
       "</style>\n",
       "<table border=\"1\" class=\"dataframe\">\n",
       "  <thead>\n",
       "    <tr style=\"text-align: right;\">\n",
       "      <th></th>\n",
       "      <th>education</th>\n",
       "      <th>experience</th>\n",
       "    </tr>\n",
       "  </thead>\n",
       "  <tbody>\n",
       "    <tr>\n",
       "      <th>0</th>\n",
       "      <td>MS</td>\n",
       "      <td>0-1</td>\n",
       "    </tr>\n",
       "    <tr>\n",
       "      <th>1</th>\n",
       "      <td>S</td>\n",
       "      <td>0-1</td>\n",
       "    </tr>\n",
       "    <tr>\n",
       "      <th>2</th>\n",
       "      <td>S</td>\n",
       "      <td>0-1</td>\n",
       "    </tr>\n",
       "    <tr>\n",
       "      <th>3</th>\n",
       "      <td>S</td>\n",
       "      <td>0-1</td>\n",
       "    </tr>\n",
       "    <tr>\n",
       "      <th>4</th>\n",
       "      <td>HE</td>\n",
       "      <td>3-5</td>\n",
       "    </tr>\n",
       "    <tr>\n",
       "      <th>...</th>\n",
       "      <td>...</td>\n",
       "      <td>...</td>\n",
       "    </tr>\n",
       "    <tr>\n",
       "      <th>462</th>\n",
       "      <td>NS</td>\n",
       "      <td>5-</td>\n",
       "    </tr>\n",
       "    <tr>\n",
       "      <th>463</th>\n",
       "      <td>S</td>\n",
       "      <td>0-1</td>\n",
       "    </tr>\n",
       "    <tr>\n",
       "      <th>464</th>\n",
       "      <td>S</td>\n",
       "      <td>3-5</td>\n",
       "    </tr>\n",
       "    <tr>\n",
       "      <th>465</th>\n",
       "      <td>SSE</td>\n",
       "      <td>3-5</td>\n",
       "    </tr>\n",
       "    <tr>\n",
       "      <th>466</th>\n",
       "      <td>MS</td>\n",
       "      <td>0-1</td>\n",
       "    </tr>\n",
       "  </tbody>\n",
       "</table>\n",
       "<p>467 rows × 2 columns</p>\n",
       "</div>"
      ],
      "text/plain": [
       "    education experience\n",
       "0          MS        0-1\n",
       "1           S        0-1\n",
       "2           S        0-1\n",
       "3           S        0-1\n",
       "4          HE        3-5\n",
       "..        ...        ...\n",
       "462        NS         5-\n",
       "463         S        0-1\n",
       "464         S        3-5\n",
       "465       SSE        3-5\n",
       "466        MS        0-1\n",
       "\n",
       "[467 rows x 2 columns]"
      ]
     },
     "execution_count": 27,
     "metadata": {},
     "output_type": "execute_result"
    }
   ],
   "source": [
    "df_courierseducation"
   ]
  },
  {
   "cell_type": "code",
   "execution_count": 28,
   "metadata": {},
   "outputs": [
    {
     "data": {
      "text/html": [
       "<div>\n",
       "<style scoped>\n",
       "    .dataframe tbody tr th:only-of-type {\n",
       "        vertical-align: middle;\n",
       "    }\n",
       "\n",
       "    .dataframe tbody tr th {\n",
       "        vertical-align: top;\n",
       "    }\n",
       "\n",
       "    .dataframe thead th {\n",
       "        text-align: right;\n",
       "    }\n",
       "</style>\n",
       "<table border=\"1\" class=\"dataframe\">\n",
       "  <thead>\n",
       "    <tr style=\"text-align: right;\">\n",
       "      <th></th>\n",
       "      <th>education</th>\n",
       "      <th>experience</th>\n",
       "    </tr>\n",
       "  </thead>\n",
       "  <tbody>\n",
       "    <tr>\n",
       "      <th>count</th>\n",
       "      <td>467</td>\n",
       "      <td>467</td>\n",
       "    </tr>\n",
       "    <tr>\n",
       "      <th>unique</th>\n",
       "      <td>5</td>\n",
       "      <td>4</td>\n",
       "    </tr>\n",
       "    <tr>\n",
       "      <th>top</th>\n",
       "      <td>S</td>\n",
       "      <td>0-1</td>\n",
       "    </tr>\n",
       "    <tr>\n",
       "      <th>freq</th>\n",
       "      <td>212</td>\n",
       "      <td>179</td>\n",
       "    </tr>\n",
       "  </tbody>\n",
       "</table>\n",
       "</div>"
      ],
      "text/plain": [
       "       education experience\n",
       "count        467        467\n",
       "unique         5          4\n",
       "top            S        0-1\n",
       "freq         212        179"
      ]
     },
     "execution_count": 28,
     "metadata": {},
     "output_type": "execute_result"
    }
   ],
   "source": [
    "df_courierseducation.describe()"
   ]
  },
  {
   "cell_type": "code",
   "execution_count": 29,
   "metadata": {},
   "outputs": [
    {
     "name": "stdout",
     "output_type": "stream",
     "text": [
      "<class 'pandas.core.frame.DataFrame'>\n",
      "RangeIndex: 467 entries, 0 to 466\n",
      "Data columns (total 2 columns):\n",
      " #   Column      Non-Null Count  Dtype \n",
      "---  ------      --------------  ----- \n",
      " 0   education   467 non-null    object\n",
      " 1   experience  467 non-null    object\n",
      "dtypes: object(2)\n",
      "memory usage: 7.4+ KB\n"
     ]
    }
   ],
   "source": [
    "df_courierseducation.info()"
   ]
  },
  {
   "cell_type": "markdown",
   "metadata": {},
   "source": [
    "### <u>Определим гипотезы:</u>\n",
    "* Нулевая гипотеза (H0): нет значимой корреляции между образованием и стажем работы в компании.\n",
    "* Альтернативная гипотеза (H1): стаж работы в компании зависит от уровня образования."
   ]
  },
  {
   "cell_type": "markdown",
   "metadata": {},
   "source": [
    "Создадим таблицу сопряженности"
   ]
  },
  {
   "cell_type": "code",
   "execution_count": 30,
   "metadata": {},
   "outputs": [
    {
     "data": {
      "text/html": [
       "<div>\n",
       "<style scoped>\n",
       "    .dataframe tbody tr th:only-of-type {\n",
       "        vertical-align: middle;\n",
       "    }\n",
       "\n",
       "    .dataframe tbody tr th {\n",
       "        vertical-align: top;\n",
       "    }\n",
       "\n",
       "    .dataframe thead th {\n",
       "        text-align: right;\n",
       "    }\n",
       "</style>\n",
       "<table border=\"1\" class=\"dataframe\">\n",
       "  <thead>\n",
       "    <tr style=\"text-align: right;\">\n",
       "      <th>experience</th>\n",
       "      <th>0-1</th>\n",
       "      <th>1-3</th>\n",
       "      <th>3-5</th>\n",
       "      <th>5-</th>\n",
       "    </tr>\n",
       "    <tr>\n",
       "      <th>education</th>\n",
       "      <th></th>\n",
       "      <th></th>\n",
       "      <th></th>\n",
       "      <th></th>\n",
       "    </tr>\n",
       "  </thead>\n",
       "  <tbody>\n",
       "    <tr>\n",
       "      <th>HE</th>\n",
       "      <td>32</td>\n",
       "      <td>32</td>\n",
       "      <td>22</td>\n",
       "      <td>20</td>\n",
       "    </tr>\n",
       "    <tr>\n",
       "      <th>MS</th>\n",
       "      <td>30</td>\n",
       "      <td>14</td>\n",
       "      <td>3</td>\n",
       "      <td>11</td>\n",
       "    </tr>\n",
       "    <tr>\n",
       "      <th>NS</th>\n",
       "      <td>13</td>\n",
       "      <td>15</td>\n",
       "      <td>7</td>\n",
       "      <td>6</td>\n",
       "    </tr>\n",
       "    <tr>\n",
       "      <th>S</th>\n",
       "      <td>85</td>\n",
       "      <td>62</td>\n",
       "      <td>48</td>\n",
       "      <td>17</td>\n",
       "    </tr>\n",
       "    <tr>\n",
       "      <th>SSE</th>\n",
       "      <td>19</td>\n",
       "      <td>14</td>\n",
       "      <td>10</td>\n",
       "      <td>7</td>\n",
       "    </tr>\n",
       "  </tbody>\n",
       "</table>\n",
       "</div>"
      ],
      "text/plain": [
       "experience  0-1  1-3  3-5  5-\n",
       "education                    \n",
       "HE           32   32   22  20\n",
       "MS           30   14    3  11\n",
       "NS           13   15    7   6\n",
       "S            85   62   48  17\n",
       "SSE          19   14   10   7"
      ]
     },
     "execution_count": 30,
     "metadata": {},
     "output_type": "execute_result"
    }
   ],
   "source": [
    "pd.crosstab(df_courierseducation[\"education\"], df_courierseducation[\"experience\"])"
   ]
  },
  {
   "cell_type": "markdown",
   "metadata": {},
   "source": [
    "Рассчитаем статистику хи-квадрат."
   ]
  },
  {
   "cell_type": "code",
   "execution_count": 31,
   "metadata": {},
   "outputs": [
    {
     "name": "stdout",
     "output_type": "stream",
     "text": [
      "хи-квадрат стастистика: 22.507947679669225\n",
      "p-value: 0.032205915366036585\n",
      "степеней свободы: 12\n",
      "рассчитанные ожидаемые значения:\n",
      " [[40.62955032 31.09635974 20.42826552 13.84582441]\n",
      " [22.23126338 17.01498929 11.17773019  7.57601713]\n",
      " [15.71520343 12.02783726  7.90149893  5.35546039]\n",
      " [81.25910064 62.19271949 40.85653105 27.69164882]\n",
      " [19.16488223 14.66809422  9.6359743   6.53104925]]\n"
     ]
    }
   ],
   "source": [
    "table = pd.crosstab(\n",
    "    df_courierseducation[\"education\"], df_courierseducation[\"experience\"]\n",
    ")\n",
    "res = chi2_contingency(table)\n",
    "print(\"хи-квадрат стастистика:\", res.statistic)\n",
    "print(\"p-value:\", res.pvalue)\n",
    "print(\"степеней свободы:\", res.dof)\n",
    "print(\"рассчитанные ожидаемые значения:\\n\", res.expected_freq)"
   ]
  },
  {
   "cell_type": "code",
   "execution_count": 32,
   "metadata": {},
   "outputs": [
    {
     "name": "stdout",
     "output_type": "stream",
     "text": [
      "\n",
      "Таблица ожидаемых частот:\n",
      "experience        0-1        1-3        3-5         5-\n",
      "education                                             \n",
      "HE          40.629550  31.096360  20.428266  13.845824\n",
      "MS          22.231263  17.014989  11.177730   7.576017\n",
      "NS          15.715203  12.027837   7.901499   5.355460\n",
      "S           81.259101  62.192719  40.856531  27.691649\n",
      "SSE         19.164882  14.668094   9.635974   6.531049\n",
      "\n",
      "Отвергаем нулевую гипотезу: стаж работы в компании зависит от уровня образования.\n"
     ]
    }
   ],
   "source": [
    "print(\"\\nТаблица ожидаемых частот:\")\n",
    "print(pd.DataFrame(res.expected_freq, columns=table.columns, index=table.index))\n",
    "\n",
    "alpha = 0.05  # Уровень значимости\n",
    "if res.pvalue < alpha:\n",
    "    print(\n",
    "        \"\\nОтвергаем нулевую гипотезу: стаж работы в компании зависит от уровня образования.\"\n",
    "    )\n",
    "else:\n",
    "    print(\n",
    "        \"\\nНе отвергаем нулевую гипотезу: нет достаточных оснований утверждать, что стаж работы в компании зависит от уровня образования.\"\n",
    "    )"
   ]
  },
  {
   "cell_type": "markdown",
   "metadata": {},
   "source": [
    "<font color=\"blue\"><u>Вывод:\n",
    "Отвергаем нулевую гипотезу: стаж работы в компании зависит от уровня образования. </font> </u>"
   ]
  },
  {
   "cell_type": "markdown",
   "metadata": {},
   "source": [
    "## Задание 4 (дополнительное)\n",
    "Постройте 95%-е доверительные интервалы по выборкам из задания 1 для среднего времени доставки курьерами, использующими и не использующими новую опцию комбинирования нескольких видов транспорта в приложении."
   ]
  },
  {
   "cell_type": "code",
   "execution_count": 33,
   "metadata": {},
   "outputs": [
    {
     "name": "stdout",
     "output_type": "stream",
     "text": [
      "95% Доверительный интервал для среднего времени доставки в тестовой группе: (np.float64(14.877508247205094), np.float64(15.903508701947446))\n",
      "95% Доверительный интервал для среднего времени доставки в контрольной группе: (np.float64(13.699998472120784), np.float64(14.741526951608025))\n"
     ]
    }
   ],
   "source": [
    "# Тестовая группа\n",
    "# Вычисление стандартного отклонения, размера выборки\n",
    "std_test_time = np.std(df_timescourierstest[\"time\"], ddof=1)\n",
    "n = len(df_timescourierstest[\"time\"])\n",
    "mean_test_time = df_timescourierstest[\"time\"].mean()\n",
    "\n",
    "# Вычисление и округление доверительного интервала\n",
    "interval_test = stats.norm.interval(\n",
    "    0.95, loc=mean_test_time, scale=std_test_time / np.sqrt(n)\n",
    ")\n",
    "interval_test = (interval_test[0], interval_test[1])\n",
    "\n",
    "# Контрольная группа\n",
    "# Вычисление стандартного отклонения, размера выборки\n",
    "std_control_time = np.std(df_timescourierscontrol[\"time\"], ddof=1)\n",
    "n = len(df_timescourierscontrol[\"time\"])\n",
    "mean_control_time = df_timescourierscontrol[\"time\"].mean()\n",
    "\n",
    "# Вычисление доверительного интервала\n",
    "interval_control = stats.norm.interval(\n",
    "    0.95, loc=mean_control_time, scale=std_control_time / np.sqrt(n)\n",
    ")\n",
    "interval_control = (interval_control[0], interval_control[1])\n",
    "\n",
    "print(\n",
    "    f\"95% Доверительный интервал для среднего времени доставки в тестовой группе: {interval_test}\"\n",
    ")\n",
    "print(\n",
    "    f\"95% Доверительный интервал для среднего времени доставки в контрольной группе: {interval_control}\"\n",
    ")"
   ]
  },
  {
   "cell_type": "code",
   "execution_count": 50,
   "metadata": {},
   "outputs": [],
   "source": [
    "def make_plot(param, alph, nsig=4, nbins=25):\n",
    "    title_axis = \"Визуализация совокупности данных о времени обработки заказов\"\n",
    "    fig, axes = plt.subplots(figsize=[8, 8])\n",
    "    axes.set_title(title_axis, fontsize=14)\n",
    "    axes.set_xlabel(\"Time(hours)\", fontsize=16)\n",
    "    mean_t, sigma = stats.norm.fit(param)\n",
    "    axes.hist(param, nbins, density=True, color=\"coral\", alpha=0.5)\n",
    "    xmin, xmax = mean_t - nsig * sigma, mean_t + nsig * sigma\n",
    "    xdat = np.linspace(xmin, xmax, 100)\n",
    "    pdf_dat = stats.norm(mean_t, sigma).pdf(xdat)\n",
    "    axes.plot(xdat, pdf_dat, color=\"cornflowerblue\")\n",
    "    # Построение доверительного интервала\n",
    "    std_mean = param.std(ddof=1) / np.sqrt(param.count())\n",
    "    left, right = stats.norm.interval(1 - alph, loc=mean_t, scale=std_mean)\n",
    "    for bord in [left, right]:\n",
    "        y_max = plt.ylim()[1] * 0.8\n",
    "        axes.axvline(bord, color=\"cadetblue\", linestyle=\"dashed\", lw=2)\n",
    "        if bord == left:\n",
    "            axes.text(mean_t - sigma, y_max, round(bord, 2), color=\"darkslategrey\")\n",
    "        else:\n",
    "            axes.text(mean_t + sigma / 2, y_max, round(bord, 2), color=\"darkslategrey\")\n",
    "    xfill = np.linspace(left, right)\n",
    "    yfill = stats.norm(mean_t, sigma).pdf(xfill)\n",
    "    axes.fill_between(xfill, 0, yfill, color=\"cadetblue\", alpha=0.7)"
   ]
  },
  {
   "cell_type": "code",
   "execution_count": 51,
   "metadata": {},
   "outputs": [
    {
     "data": {
      "image/png": "[encoded data removed]",
      "text/plain": [
       "<Figure size 800x800 with 1 Axes>"
      ]
     },
     "metadata": {},
     "output_type": "display_data"
    }
   ],
   "source": [
    "make_plot(df_timescourierscontrol[\"time\"], alph=0.05, nsig=4, nbins=25)"
   ]
  },
  {
   "cell_type": "code",
   "execution_count": 52,
   "metadata": {},
   "outputs": [
    {
     "data": {
      "image/png": "[encoded data removed]",
      "text/plain": [
       "<Figure size 800x800 with 1 Axes>"
      ]
     },
     "metadata": {},
     "output_type": "display_data"
    }
   ],
   "source": [
    "make_plot(df_timescourierstest[\"time\"], alph=0.05, nsig=4, nbins=25)"
   ]
  },
  {
   "cell_type": "markdown",
   "metadata": {},
   "source": [
    "Функция для вычисления доверительных интервалов"
   ]
  },
  {
   "cell_type": "code",
   "execution_count": 64,
   "metadata": {},
   "outputs": [],
   "source": [
    "def make_stat(param, alph, method):\n",
    "    if method == \"assympt\":\n",
    "        z = stats.norm.ppf(1 - alph / 2)\n",
    "        mean_s = param.mean()\n",
    "        var_s = param.var(ddof=1)\n",
    "        n = param.count()\n",
    "        left_s = mean_s - z * np.sqrt(var_s / n)\n",
    "        right_s = mean_s + z * np.sqrt(var_s / n)\n",
    "        print(\n",
    "            f\"Доверительный интервал среднего времени доставки (вычислено вручную): [{round(left_s, 3)}, {round(right_s, 3)}], ширина интервала: [{round((right_s - left_s), 3)}]\"\n",
    "        )\n",
    "        sigma = param.std(ddof=1) / np.sqrt(n)\n",
    "        left, right = stats.norm.interval(1 - alph, loc=mean_s, scale=sigma)\n",
    "        print(\n",
    "            f\"Доверительный интервал среднего времени доставки (с пом. библиотеки): [{round(left, 3)}, {round(right, 3)}], ширина интервала: [{round((right - left), 3)}]\"\n",
    "        )\n",
    "    if method == \"precize\":\n",
    "        n = param.count()\n",
    "        stud = stats.t(n - 1)\n",
    "        t = stud.ppf(1 - alph / 2)\n",
    "        mean_p = param.mean()\n",
    "        var_p = param.var(ddof=1)\n",
    "        left_p = mean_p - t * np.sqrt(var_p / n)\n",
    "        right_p = mean_p + t * np.sqrt(var_p / n)\n",
    "        print(\n",
    "            f\"Доверительный интервал среднего времени доставки (вычислено вручную): [{round(left_p, 3)}, {round(right_p, 3)}], ширина интервала: [{round((right_p - left_p), 3)}]\"\n",
    "        )\n",
    "        sigma = param.std(ddof=1) / np.sqrt(n)\n",
    "        left, right = stats.t.interval(1 - alph, df=(n - 1), loc=mean_p, scale=sigma)\n",
    "        print(\n",
    "            f\"Доверительный интервал среднего времени доставки (с пом. библиотеки): [{round(left, 3)}, {round(right, 3)}], ширина интервала: [{round((right - left), 3)}]\"\n",
    "        )"
   ]
  },
  {
   "cell_type": "markdown",
   "metadata": {},
   "source": [
    "Рассчитаем асимптотический интервал для тестовой группы:"
   ]
  },
  {
   "cell_type": "code",
   "execution_count": 57,
   "metadata": {},
   "outputs": [
    {
     "name": "stdout",
     "output_type": "stream",
     "text": [
      "Доверительный интервал среднего времени доставки (вычислено вручную): [14.96, 15.821], ширина интервала: [0.861]\n",
      "Доверительный интервал среднего времени доставки (с пом. библиотеки): [14.96, 15.821], ширина интервала: [0.861]\n"
     ]
    }
   ],
   "source": [
    "make_stat(df_timescourierstest[\"time\"], 0.1, \"assympt\")"
   ]
  },
  {
   "cell_type": "markdown",
   "metadata": {},
   "source": [
    "Рассчитаем точный интервал для тестовой группы:"
   ]
  },
  {
   "cell_type": "code",
   "execution_count": 65,
   "metadata": {},
   "outputs": [
    {
     "name": "stdout",
     "output_type": "stream",
     "text": [
      "Доверительный интервал среднего времени доставки (вычислено вручную): [14.959, 15.822], ширина интервала: [0.863]\n",
      "Доверительный интервал среднего времени доставки (с пом. библиотеки): [14.959, 15.822], ширина интервала: [0.863]\n"
     ]
    }
   ],
   "source": [
    "make_stat(df_timescourierstest[\"time\"], 0.1, \"precize\")"
   ]
  },
  {
   "cell_type": "markdown",
   "metadata": {},
   "source": [
    "Рассчитаем асимптотический интервал для контрольной группы:"
   ]
  },
  {
   "cell_type": "code",
   "execution_count": 59,
   "metadata": {},
   "outputs": [
    {
     "name": "stdout",
     "output_type": "stream",
     "text": [
      "Доверительный интервал среднего времени доставки (вычислено вручную): [13.784, 14.658], ширина интервала: [0.874]\n",
      "Доверительный интервал среднего времени доставки (с пом. библиотеки): [13.784, 14.658], ширина интервала: [0.874]\n"
     ]
    }
   ],
   "source": [
    "make_stat(df_timescourierscontrol[\"time\"], 0.1, \"assympt\")"
   ]
  },
  {
   "cell_type": "markdown",
   "metadata": {},
   "source": [
    "Рассчитаем точный интервал для контрольной группы:"
   ]
  },
  {
   "cell_type": "code",
   "execution_count": 66,
   "metadata": {},
   "outputs": [
    {
     "name": "stdout",
     "output_type": "stream",
     "text": [
      "Доверительный интервал среднего времени доставки (вычислено вручную): [13.783, 14.659], ширина интервала: [0.876]\n",
      "Доверительный интервал среднего времени доставки (с пом. библиотеки): [13.783, 14.659], ширина интервала: [0.876]\n"
     ]
    }
   ],
   "source": [
    "make_stat(df_timescourierscontrol[\"time\"], 0.1, \"precize\")"
   ]
  },
  {
   "cell_type": "markdown",
   "metadata": {},
   "source": [
    "Т.к. распределение для тестовой группы не совсем соответствует нормальному распределению, можно попробовать использовать бутстреп метод оценки доверительных интервалов для среднего."
   ]
  },
  {
   "cell_type": "markdown",
   "metadata": {},
   "source": [
    "Создание выборки:"
   ]
  },
  {
   "cell_type": "code",
   "execution_count": 68,
   "metadata": {},
   "outputs": [
    {
     "data": {
      "text/plain": [
       "(array([0.00519984, 0.02183933, 0.06031816, 0.13623584, 0.27559159,\n",
       "        0.45758604, 0.77477636, 1.20740316, 1.37483806, 1.46323536,\n",
       "        1.42995637, 1.24796193, 0.8392544 , 0.56574274, 0.29743093,\n",
       "        0.15911515, 0.04679857, 0.02391927, 0.00831975, 0.00415987]),\n",
       " array([14.46353814, 14.55969492, 14.65585169, 14.75200847, 14.84816525,\n",
       "        14.94432203, 15.04047881, 15.13663559, 15.23279237, 15.32894915,\n",
       "        15.42510593, 15.52126271, 15.61741949, 15.71357627, 15.80973305,\n",
       "        15.90588983, 16.00204661, 16.09820339, 16.19436017, 16.29051695,\n",
       "        16.38667373]),\n",
       " <BarContainer object of 20 artists>)"
      ]
     },
     "execution_count": 68,
     "metadata": {},
     "output_type": "execute_result"
    },
    {
     "data": {
      "image/png": "[encoded data removed]",
      "text/plain": [
       "<Figure size 640x480 with 1 Axes>"
      ]
     },
     "metadata": {},
     "output_type": "display_data"
    }
   ],
   "source": [
    "def create_bootstrap_sample(param, n_sample=1000):\n",
    "    n = param.count()\n",
    "    sample = np.random.choice(param, size=(n, n_sample), replace=True)\n",
    "    if n_sample == 1:\n",
    "        sample = sample.T[0]\n",
    "    return sample\n",
    "\n",
    "\n",
    "bs_data = create_bootstrap_sample(df_timescourierstest[\"time\"], n_sample=10000)\n",
    "# bs_data = create_bootstrap_sample(df_timescourierscontrol['time'], n_sample=10000)\n",
    "bs_mean = np.mean(bs_data, axis=0)\n",
    "plt.hist(bs_mean, bins=20, density=True)"
   ]
  },
  {
   "cell_type": "markdown",
   "metadata": {},
   "source": [
    "Процентильный доверительный интервал (Эфрон):"
   ]
  },
  {
   "cell_type": "code",
   "execution_count": 69,
   "metadata": {},
   "outputs": [
    {
     "name": "stdout",
     "output_type": "stream",
     "text": [
      "Доверительный интервал среднего времени доставки (по процентилям): [14.95, 15.815], ширина интервала: [0.864]\n"
     ]
    }
   ],
   "source": [
    "alpha = 0.1\n",
    "left = np.quantile(bs_mean, alpha / 2)\n",
    "right = np.quantile(bs_mean, 1 - alpha / 2)\n",
    "print(\n",
    "    f\"Доверительный интервал среднего времени доставки (по процентилям): [{round(left, 3)}, {round(right, 3)}], ширина интервала: [{round((right - left), 3)}]\"\n",
    ")"
   ]
  },
  {
   "cell_type": "markdown",
   "metadata": {},
   "source": [
    "Доверительный интервал Холла для центрированного значения (наиболее оптимальный из-за \"обрезанного\" края распределения):"
   ]
  },
  {
   "cell_type": "code",
   "execution_count": 70,
   "metadata": {},
   "outputs": [
    {
     "name": "stdout",
     "output_type": "stream",
     "text": [
      "Доверительный интервал среднего времени доставки (Холл): [14.966, 15.831], ширина интервала: [0.864]\n"
     ]
    }
   ],
   "source": [
    "data_mean = np.mean(df_timescourierstest[\"time\"])\n",
    "# data_mean = np.mean(df_timescourierscontrol['time'])\n",
    "mean_dif = np.mean(bs_data - data_mean, axis=0)\n",
    "left = data_mean - np.quantile(mean_dif, 1 - alpha / 2)\n",
    "right = data_mean - np.quantile(mean_dif, alpha / 2)\n",
    "print(\n",
    "    f\"Доверительный интервал среднего времени доставки (Холл): [{round(left, 3)}, {round(right, 3)}], ширина интервала: [{round((right - left), 3)}]\"\n",
    ")"
   ]
  },
  {
   "cell_type": "markdown",
   "metadata": {},
   "source": [
    "Т-процентильный доверительный интервал:"
   ]
  },
  {
   "cell_type": "code",
   "execution_count": 71,
   "metadata": {},
   "outputs": [
    {
     "name": "stdout",
     "output_type": "stream",
     "text": [
      "Доверительный интервал среднего времени доставки (Т-процентильный): [15.377, 15.404], ширина интервала: [0.027]\n"
     ]
    }
   ],
   "source": [
    "data_mean = np.mean(df_timescourierstest['time'])\n",
    "data_std = np.std(df_timescourierstest['time'])\n",
    "# data_mean = np.mean(df_timescourierscontrol['time'])\n",
    "# data_std = np.std(df_timescourierscontrol['time'])\n",
    "bs_t = np.mean(bs_data - data_mean, axis=0)/np.std(bs_data,axis=0)\n",
    "left = data_mean - np.quantile(bs_t, 1 - alpha/2)/data_std\n",
    "right = data_mean - np.quantile(bs_t, alpha/2)/data_std\n",
    "print(\n",
    "    f\"Доверительный интервал среднего времени доставки (Т-процентильный): [{round(left, 3)}, {round(right, 3)}], ширина интервала: [{round((right - left), 3)}]\"\n",
    ")"
   ]
  }
 ],
 "metadata": {
  "kernelspec": {
   "display_name": "statproject_venv",
   "language": "python",
   "name": "python3"
  },
  "language_info": {
   "codemirror_mode": {
    "name": "ipython",
    "version": 3
   },
   "file_extension": ".py",
   "mimetype": "text/x-python",
   "name": "python",
   "nbconvert_exporter": "python",
   "pygments_lexer": "ipython3",
   "version": "3.12.7"
  }
 },
 "nbformat": 4,
 "nbformat_minor": 2
}
